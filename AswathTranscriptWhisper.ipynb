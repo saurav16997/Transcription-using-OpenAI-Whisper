{
  "nbformat": 4,
  "nbformat_minor": 0,
  "metadata": {
    "colab": {
      "provenance": []
    },
    "kernelspec": {
      "name": "python3",
      "display_name": "Python 3"
    },
    "language_info": {
      "name": "python"
    }
  },
  "cells": [
    {
      "cell_type": "code",
      "source": [
        "!pip install git+https://github.com/openai/whisper.git\n",
        "!pip install yt-dlp\n",
        "!apt-get install ffmpeg"
      ],
      "metadata": {
        "colab": {
          "base_uri": "https://localhost:8080/"
        },
        "collapsed": true,
        "id": "yAdySyAgJCwM",
        "outputId": "d119f165-11ae-448e-fac7-c56892577603"
      },
      "execution_count": 1,
      "outputs": [
        {
          "output_type": "stream",
          "name": "stdout",
          "text": [
            "Collecting git+https://github.com/openai/whisper.git\n",
            "  Cloning https://github.com/openai/whisper.git to /tmp/pip-req-build-m68rm77b\n",
            "  Running command git clone --filter=blob:none --quiet https://github.com/openai/whisper.git /tmp/pip-req-build-m68rm77b\n",
            "  Resolved https://github.com/openai/whisper.git to commit 173ff7dd1d9fb1c4fddea0d41d704cfefeb8908c\n",
            "  Installing build dependencies ... \u001b[?25l\u001b[?25hdone\n",
            "  Getting requirements to build wheel ... \u001b[?25l\u001b[?25hdone\n",
            "  Preparing metadata (pyproject.toml) ... \u001b[?25l\u001b[?25hdone\n",
            "Requirement already satisfied: numba in /usr/local/lib/python3.10/dist-packages (from openai-whisper==20240930) (0.60.0)\n",
            "Requirement already satisfied: numpy in /usr/local/lib/python3.10/dist-packages (from openai-whisper==20240930) (1.26.4)\n",
            "Requirement already satisfied: torch in /usr/local/lib/python3.10/dist-packages (from openai-whisper==20240930) (2.5.1+cu121)\n",
            "Requirement already satisfied: tqdm in /usr/local/lib/python3.10/dist-packages (from openai-whisper==20240930) (4.66.6)\n",
            "Requirement already satisfied: more-itertools in /usr/local/lib/python3.10/dist-packages (from openai-whisper==20240930) (10.5.0)\n",
            "Collecting tiktoken (from openai-whisper==20240930)\n",
            "  Downloading tiktoken-0.8.0-cp310-cp310-manylinux_2_17_x86_64.manylinux2014_x86_64.whl.metadata (6.6 kB)\n",
            "Collecting triton>=2.0.0 (from openai-whisper==20240930)\n",
            "  Downloading triton-3.1.0-cp310-cp310-manylinux_2_17_x86_64.manylinux2014_x86_64.whl.metadata (1.3 kB)\n",
            "Requirement already satisfied: filelock in /usr/local/lib/python3.10/dist-packages (from triton>=2.0.0->openai-whisper==20240930) (3.16.1)\n",
            "Requirement already satisfied: llvmlite<0.44,>=0.43.0dev0 in /usr/local/lib/python3.10/dist-packages (from numba->openai-whisper==20240930) (0.43.0)\n",
            "Requirement already satisfied: regex>=2022.1.18 in /usr/local/lib/python3.10/dist-packages (from tiktoken->openai-whisper==20240930) (2024.9.11)\n",
            "Requirement already satisfied: requests>=2.26.0 in /usr/local/lib/python3.10/dist-packages (from tiktoken->openai-whisper==20240930) (2.32.3)\n",
            "Requirement already satisfied: typing-extensions>=4.8.0 in /usr/local/lib/python3.10/dist-packages (from torch->openai-whisper==20240930) (4.12.2)\n",
            "Requirement already satisfied: networkx in /usr/local/lib/python3.10/dist-packages (from torch->openai-whisper==20240930) (3.4.2)\n",
            "Requirement already satisfied: jinja2 in /usr/local/lib/python3.10/dist-packages (from torch->openai-whisper==20240930) (3.1.4)\n",
            "Requirement already satisfied: fsspec in /usr/local/lib/python3.10/dist-packages (from torch->openai-whisper==20240930) (2024.10.0)\n",
            "Requirement already satisfied: sympy==1.13.1 in /usr/local/lib/python3.10/dist-packages (from torch->openai-whisper==20240930) (1.13.1)\n",
            "Requirement already satisfied: mpmath<1.4,>=1.1.0 in /usr/local/lib/python3.10/dist-packages (from sympy==1.13.1->torch->openai-whisper==20240930) (1.3.0)\n",
            "Requirement already satisfied: charset-normalizer<4,>=2 in /usr/local/lib/python3.10/dist-packages (from requests>=2.26.0->tiktoken->openai-whisper==20240930) (3.4.0)\n",
            "Requirement already satisfied: idna<4,>=2.5 in /usr/local/lib/python3.10/dist-packages (from requests>=2.26.0->tiktoken->openai-whisper==20240930) (3.10)\n",
            "Requirement already satisfied: urllib3<3,>=1.21.1 in /usr/local/lib/python3.10/dist-packages (from requests>=2.26.0->tiktoken->openai-whisper==20240930) (2.2.3)\n",
            "Requirement already satisfied: certifi>=2017.4.17 in /usr/local/lib/python3.10/dist-packages (from requests>=2.26.0->tiktoken->openai-whisper==20240930) (2024.8.30)\n",
            "Requirement already satisfied: MarkupSafe>=2.0 in /usr/local/lib/python3.10/dist-packages (from jinja2->torch->openai-whisper==20240930) (3.0.2)\n",
            "Downloading triton-3.1.0-cp310-cp310-manylinux_2_17_x86_64.manylinux2014_x86_64.whl (209.5 MB)\n",
            "\u001b[2K   \u001b[90m━━━━━━━━━━━━━━━━━━━━━━━━━━━━━━━━━━━━━━━━\u001b[0m \u001b[32m209.5/209.5 MB\u001b[0m \u001b[31m6.0 MB/s\u001b[0m eta \u001b[36m0:00:00\u001b[0m\n",
            "\u001b[?25hDownloading tiktoken-0.8.0-cp310-cp310-manylinux_2_17_x86_64.manylinux2014_x86_64.whl (1.2 MB)\n",
            "\u001b[2K   \u001b[90m━━━━━━━━━━━━━━━━━━━━━━━━━━━━━━━━━━━━━━━━\u001b[0m \u001b[32m1.2/1.2 MB\u001b[0m \u001b[31m29.7 MB/s\u001b[0m eta \u001b[36m0:00:00\u001b[0m\n",
            "\u001b[?25hBuilding wheels for collected packages: openai-whisper\n",
            "  Building wheel for openai-whisper (pyproject.toml) ... \u001b[?25l\u001b[?25hdone\n",
            "  Created wheel for openai-whisper: filename=openai_whisper-20240930-py3-none-any.whl size=803557 sha256=0d0c596c005ef4ed52581973a9247af8184870fa6a9cf120a8ec59aa4aa6d8ca\n",
            "  Stored in directory: /tmp/pip-ephem-wheel-cache-nt78rdao/wheels/8b/6c/d0/622666868c179f156cf595c8b6f06f88bc5d80c4b31dccaa03\n",
            "Successfully built openai-whisper\n",
            "Installing collected packages: triton, tiktoken, openai-whisper\n",
            "Successfully installed openai-whisper-20240930 tiktoken-0.8.0 triton-3.1.0\n",
            "Collecting yt-dlp\n",
            "  Downloading yt_dlp-2024.11.4-py3-none-any.whl.metadata (172 kB)\n",
            "\u001b[2K     \u001b[90m━━━━━━━━━━━━━━━━━━━━━━━━━━━━━━━━━━━━━━━━\u001b[0m \u001b[32m172.1/172.1 kB\u001b[0m \u001b[31m5.1 MB/s\u001b[0m eta \u001b[36m0:00:00\u001b[0m\n",
            "\u001b[?25hDownloading yt_dlp-2024.11.4-py3-none-any.whl (3.2 MB)\n",
            "\u001b[2K   \u001b[90m━━━━━━━━━━━━━━━━━━━━━━━━━━━━━━━━━━━━━━━━\u001b[0m \u001b[32m3.2/3.2 MB\u001b[0m \u001b[31m61.5 MB/s\u001b[0m eta \u001b[36m0:00:00\u001b[0m\n",
            "\u001b[?25hInstalling collected packages: yt-dlp\n",
            "Successfully installed yt-dlp-2024.11.4\n",
            "Reading package lists... Done\n",
            "Building dependency tree... Done\n",
            "Reading state information... Done\n",
            "ffmpeg is already the newest version (7:4.4.2-0ubuntu0.22.04.1).\n",
            "0 upgraded, 0 newly installed, 0 to remove and 49 not upgraded.\n"
          ]
        }
      ]
    },
    {
      "cell_type": "code",
      "execution_count": 3,
      "metadata": {
        "colab": {
          "base_uri": "https://localhost:8080/"
        },
        "collapsed": true,
        "id": "22d-WDfXI0tU",
        "outputId": "37a3e8d4-d393-4a91-b5f1-53ab11ebf56e"
      },
      "outputs": [
        {
          "metadata": {
            "tags": null
          },
          "name": "stdout",
          "output_type": "stream",
          "text": [
            "Drive already mounted at /content/drive; to attempt to forcibly remount, call drive.mount(\"/content/drive\", force_remount=True).\n"
          ]
        },
        {
          "metadata": {
            "tags": null
          },
          "name": "stderr",
          "output_type": "stream",
          "text": [
            "/usr/local/lib/python3.10/dist-packages/whisper/__init__.py:150: FutureWarning: You are using `torch.load` with `weights_only=False` (the current default value), which uses the default pickle module implicitly. It is possible to construct malicious pickle data which will execute arbitrary code during unpickling (See https://github.com/pytorch/pytorch/blob/main/SECURITY.md#untrusted-models for more details). In a future release, the default value for `weights_only` will be flipped to `True`. This limits the functions that could be executed during unpickling. Arbitrary objects will no longer be allowed to be loaded via this mode unless they are explicitly allowlisted by the user via `torch.serialization.add_safe_globals`. We recommend you start setting `weights_only=True` for any use case where you don't have full control of the loaded file. Please open an issue on GitHub for any issues related to this experimental feature.\n",
            "  checkpoint = torch.load(fp, map_location=device)\n",
            "WARNING: [youtube:tab] Incomplete data received. Retrying (1/3)...\n",
            "WARNING: [youtube:tab] Incomplete data received. Retrying (2/3)...\n",
            "WARNING: [youtube:tab] Incomplete data received. Retrying (3/3)...\n",
            "WARNING: [youtube:tab] Incomplete data received. Giving up after 3 retries\n"
          ]
        },
        {
          "metadata": {
            "tags": null
          },
          "name": "stdout",
          "output_type": "stream",
          "text": [
            "[youtube] Extracting URL: https://www.youtube.com/watch?v=6oaw9U973s8\n",
            "[youtube] 6oaw9U973s8: Downloading webpage\n",
            "[youtube] 6oaw9U973s8: Downloading ios player API JSON\n",
            "[youtube] 6oaw9U973s8: Downloading mweb player API JSON\n",
            "[youtube] 6oaw9U973s8: Downloading m3u8 information\n",
            "[info] 6oaw9U973s8: Downloading 1 format(s): 251\n",
            "[download] Destination: 6oaw9U973s8.webm\n",
            "[download] 100% of  448.44KiB in 00:00:00 at 1.59MiB/s   \n",
            "[ExtractAudio] Destination: 6oaw9U973s8.wav\n",
            "Deleting original file 6oaw9U973s8.webm (pass -k to keep)\n"
          ]
        },
        {
          "metadata": {
            "tags": null
          },
          "name": "stderr",
          "output_type": "stream",
          "text": [
            "/usr/local/lib/python3.10/dist-packages/whisper/transcribe.py:132: UserWarning: FP16 is not supported on CPU; using FP32 instead\n",
            "  warnings.warn(\"FP16 is not supported on CPU; using FP32 instead\")\n"
          ]
        },
        {
          "metadata": {
            "tags": null
          },
          "name": "stdout",
          "output_type": "stream",
          "text": [
            "Transcript saved for video: Class Setup\n",
            "[youtube] Extracting URL: https://www.youtube.com/watch?v=Tdu0QPfoYZQ\n",
            "[youtube] Tdu0QPfoYZQ: Downloading webpage\n",
            "[youtube] Tdu0QPfoYZQ: Downloading ios player API JSON\n",
            "[youtube] Tdu0QPfoYZQ: Downloading mweb player API JSON\n",
            "[youtube] Tdu0QPfoYZQ: Downloading m3u8 information\n",
            "[info] Tdu0QPfoYZQ: Downloading 1 format(s): 251\n",
            "[download] Destination: Tdu0QPfoYZQ.webm\n",
            "[download] 100% of   14.41MiB in 00:00:00 at 16.56MiB/s  \n",
            "[ExtractAudio] Destination: Tdu0QPfoYZQ.wav\n",
            "Deleting original file Tdu0QPfoYZQ.webm (pass -k to keep)\n"
          ]
        },
        {
          "metadata": {
            "tags": null
          },
          "name": "stderr",
          "output_type": "stream",
          "text": [
            "/usr/local/lib/python3.10/dist-packages/whisper/transcribe.py:132: UserWarning: FP16 is not supported on CPU; using FP32 instead\n",
            "  warnings.warn(\"FP16 is not supported on CPU; using FP32 instead\")\n"
          ]
        },
        {
          "metadata": {
            "tags": null
          },
          "name": "stdout",
          "output_type": "stream",
          "text": [
            "Transcript saved for video: Session 1: Corporate Finance: What is it?\n",
            "[youtube] Extracting URL: https://www.youtube.com/watch?v=RZYuuX6FOBg\n",
            "[youtube] RZYuuX6FOBg: Downloading webpage\n",
            "[youtube] RZYuuX6FOBg: Downloading ios player API JSON\n",
            "[youtube] RZYuuX6FOBg: Downloading mweb player API JSON\n",
            "[youtube] RZYuuX6FOBg: Downloading m3u8 information\n",
            "[info] RZYuuX6FOBg: Downloading 1 format(s): 140\n",
            "[download] Destination: RZYuuX6FOBg.m4a\n",
            "[download] 100% of   19.80MiB in 00:00:01 at 16.53MiB/s  \n",
            "[FixupM4a] Correcting container of \"RZYuuX6FOBg.m4a\"\n",
            "[ExtractAudio] Destination: RZYuuX6FOBg.wav\n",
            "Deleting original file RZYuuX6FOBg.m4a (pass -k to keep)\n"
          ]
        },
        {
          "metadata": {
            "tags": null
          },
          "name": "stderr",
          "output_type": "stream",
          "text": [
            "/usr/local/lib/python3.10/dist-packages/whisper/transcribe.py:132: UserWarning: FP16 is not supported on CPU; using FP32 instead\n",
            "  warnings.warn(\"FP16 is not supported on CPU; using FP32 instead\")\n"
          ]
        },
        {
          "metadata": {
            "tags": null
          },
          "name": "stdout",
          "output_type": "stream",
          "text": [
            "Transcript saved for video: Session 2: The Objective in Corporate Finance\n",
            "[youtube] Extracting URL: https://www.youtube.com/watch?v=5TeThVJFyPU\n",
            "[youtube] 5TeThVJFyPU: Downloading webpage\n",
            "[youtube] 5TeThVJFyPU: Downloading ios player API JSON\n",
            "[youtube] 5TeThVJFyPU: Downloading mweb player API JSON\n",
            "[youtube] 5TeThVJFyPU: Downloading m3u8 information\n",
            "[info] 5TeThVJFyPU: Downloading 1 format(s): 140\n",
            "[download] Destination: 5TeThVJFyPU.m4a\n",
            "[download] 100% of   12.76MiB in 00:00:01 at 11.61MiB/s  \n",
            "[FixupM4a] Correcting container of \"5TeThVJFyPU.m4a\"\n",
            "[ExtractAudio] Destination: 5TeThVJFyPU.wav\n",
            "Deleting original file 5TeThVJFyPU.m4a (pass -k to keep)\n"
          ]
        },
        {
          "metadata": {
            "tags": null
          },
          "name": "stderr",
          "output_type": "stream",
          "text": [
            "/usr/local/lib/python3.10/dist-packages/whisper/transcribe.py:132: UserWarning: FP16 is not supported on CPU; using FP32 instead\n",
            "  warnings.warn(\"FP16 is not supported on CPU; using FP32 instead\")\n"
          ]
        },
        {
          "metadata": {
            "tags": null
          },
          "name": "stdout",
          "output_type": "stream",
          "text": [
            "Transcript saved for video: Session 3: The Objective in Corporate Finance - Reality\n",
            "[youtube] Extracting URL: https://www.youtube.com/watch?v=qofdyX0vudk\n",
            "[youtube] qofdyX0vudk: Downloading webpage\n",
            "[youtube] qofdyX0vudk: Downloading ios player API JSON\n",
            "[youtube] qofdyX0vudk: Downloading mweb player API JSON\n",
            "[youtube] qofdyX0vudk: Downloading m3u8 information\n",
            "[info] qofdyX0vudk: Downloading 1 format(s): 140\n",
            "[download] Destination: qofdyX0vudk.m4a\n",
            "[download] 100% of   15.79MiB in 00:00:00 at 27.76MiB/s  \n",
            "[FixupM4a] Correcting container of \"qofdyX0vudk.m4a\"\n",
            "[ExtractAudio] Destination: qofdyX0vudk.wav\n",
            "Deleting original file qofdyX0vudk.m4a (pass -k to keep)\n"
          ]
        },
        {
          "metadata": {
            "tags": null
          },
          "name": "stderr",
          "output_type": "stream",
          "text": [
            "/usr/local/lib/python3.10/dist-packages/whisper/transcribe.py:132: UserWarning: FP16 is not supported on CPU; using FP32 instead\n",
            "  warnings.warn(\"FP16 is not supported on CPU; using FP32 instead\")\n"
          ]
        },
        {
          "metadata": {
            "tags": null
          },
          "name": "stdout",
          "output_type": "stream",
          "text": [
            "Transcript saved for video: Session 4: Defining and Measuring Risk\n",
            "[youtube] Extracting URL: https://www.youtube.com/watch?v=584q2f4aTdc\n",
            "[youtube] 584q2f4aTdc: Downloading webpage\n",
            "[youtube] 584q2f4aTdc: Downloading ios player API JSON\n",
            "[youtube] 584q2f4aTdc: Downloading mweb player API JSON\n",
            "[youtube] 584q2f4aTdc: Downloading m3u8 information\n",
            "[info] 584q2f4aTdc: Downloading 1 format(s): 140\n",
            "[download] Destination: 584q2f4aTdc.m4a\n",
            "[download] 100% of   14.08MiB in 00:00:00 at 25.29MiB/s  \n",
            "[FixupM4a] Correcting container of \"584q2f4aTdc.m4a\"\n",
            "[ExtractAudio] Destination: 584q2f4aTdc.wav\n",
            "Deleting original file 584q2f4aTdc.m4a (pass -k to keep)\n"
          ]
        },
        {
          "metadata": {
            "tags": null
          },
          "name": "stderr",
          "output_type": "stream",
          "text": [
            "/usr/local/lib/python3.10/dist-packages/whisper/transcribe.py:132: UserWarning: FP16 is not supported on CPU; using FP32 instead\n",
            "  warnings.warn(\"FP16 is not supported on CPU; using FP32 instead\")\n"
          ]
        },
        {
          "metadata": {
            "tags": null
          },
          "name": "stdout",
          "output_type": "stream",
          "text": [
            "Transcript saved for video: Session 5: Estimating Hurdle Rates - The Risk free Rate\n",
            "[youtube] Extracting URL: https://www.youtube.com/watch?v=laJkrov4nqk\n",
            "[youtube] laJkrov4nqk: Downloading webpage\n",
            "[youtube] laJkrov4nqk: Downloading ios player API JSON\n",
            "[youtube] laJkrov4nqk: Downloading mweb player API JSON\n",
            "[youtube] laJkrov4nqk: Downloading m3u8 information\n",
            "[info] laJkrov4nqk: Downloading 1 format(s): 140\n",
            "[download] Destination: laJkrov4nqk.m4a\n",
            "[download] 100% of   14.54MiB in 00:00:00 at 20.75MiB/s  \n",
            "[FixupM4a] Correcting container of \"laJkrov4nqk.m4a\"\n",
            "[ExtractAudio] Destination: laJkrov4nqk.wav\n",
            "Deleting original file laJkrov4nqk.m4a (pass -k to keep)\n"
          ]
        },
        {
          "metadata": {
            "tags": null
          },
          "name": "stderr",
          "output_type": "stream",
          "text": [
            "/usr/local/lib/python3.10/dist-packages/whisper/transcribe.py:132: UserWarning: FP16 is not supported on CPU; using FP32 instead\n",
            "  warnings.warn(\"FP16 is not supported on CPU; using FP32 instead\")\n"
          ]
        },
        {
          "metadata": {
            "tags": null
          },
          "name": "stdout",
          "output_type": "stream",
          "text": [
            "Transcript saved for video: Session 6: Estimating Hurdle Rates - Equity Risk Premiums - Historical & Survey\n",
            "[youtube] Extracting URL: https://www.youtube.com/watch?v=CxJ9e61wJyQ\n",
            "[youtube] CxJ9e61wJyQ: Downloading webpage\n",
            "[youtube] CxJ9e61wJyQ: Downloading ios player API JSON\n",
            "[youtube] CxJ9e61wJyQ: Downloading mweb player API JSON\n",
            "[youtube] CxJ9e61wJyQ: Downloading m3u8 information\n",
            "[info] CxJ9e61wJyQ: Downloading 1 format(s): 140\n",
            "[download] Destination: CxJ9e61wJyQ.m4a\n",
            "[download] 100% of   12.09MiB in 00:00:00 at 14.34MiB/s  \n",
            "[FixupM4a] Correcting container of \"CxJ9e61wJyQ.m4a\"\n",
            "[ExtractAudio] Destination: CxJ9e61wJyQ.wav\n",
            "Deleting original file CxJ9e61wJyQ.m4a (pass -k to keep)\n"
          ]
        },
        {
          "metadata": {
            "tags": null
          },
          "name": "stderr",
          "output_type": "stream",
          "text": [
            "/usr/local/lib/python3.10/dist-packages/whisper/transcribe.py:132: UserWarning: FP16 is not supported on CPU; using FP32 instead\n",
            "  warnings.warn(\"FP16 is not supported on CPU; using FP32 instead\")\n"
          ]
        },
        {
          "metadata": {
            "tags": null
          },
          "name": "stdout",
          "output_type": "stream",
          "text": [
            "Transcript saved for video: Session 7: Estimating Hurdle Rates - Implied ERP, Country Risk and Company Risk\n",
            "[youtube] Extracting URL: https://www.youtube.com/watch?v=4jKYuSt40N8\n",
            "[youtube] 4jKYuSt40N8: Downloading webpage\n",
            "[youtube] 4jKYuSt40N8: Downloading ios player API JSON\n",
            "[youtube] 4jKYuSt40N8: Downloading mweb player API JSON\n",
            "[youtube] 4jKYuSt40N8: Downloading m3u8 information\n",
            "[info] 4jKYuSt40N8: Downloading 1 format(s): 140\n",
            "[download] Destination: 4jKYuSt40N8.m4a\n",
            "[download] 100% of   19.03MiB in 00:00:00 at 21.58MiB/s  \n",
            "[FixupM4a] Correcting container of \"4jKYuSt40N8.m4a\"\n",
            "[ExtractAudio] Destination: 4jKYuSt40N8.wav\n",
            "Deleting original file 4jKYuSt40N8.m4a (pass -k to keep)\n"
          ]
        },
        {
          "metadata": {
            "tags": null
          },
          "name": "stderr",
          "output_type": "stream",
          "text": [
            "/usr/local/lib/python3.10/dist-packages/whisper/transcribe.py:132: UserWarning: FP16 is not supported on CPU; using FP32 instead\n",
            "  warnings.warn(\"FP16 is not supported on CPU; using FP32 instead\")\n"
          ]
        },
        {
          "metadata": {
            "tags": null
          },
          "name": "stdout",
          "output_type": "stream",
          "text": [
            "Transcript saved for video: Session 8: Estimating Hurdle Rates - Regression Betas\n",
            "[youtube] Extracting URL: https://www.youtube.com/watch?v=moFnk44scfg\n",
            "[youtube] moFnk44scfg: Downloading webpage\n",
            "[youtube] moFnk44scfg: Downloading ios player API JSON\n",
            "[youtube] moFnk44scfg: Downloading mweb player API JSON\n",
            "[youtube] moFnk44scfg: Downloading m3u8 information\n",
            "[info] moFnk44scfg: Downloading 1 format(s): 140\n",
            "[download] Destination: moFnk44scfg.m4a\n",
            "[download] 100% of   11.88MiB in 00:00:00 at 17.09MiB/s  \n",
            "[FixupM4a] Correcting container of \"moFnk44scfg.m4a\"\n",
            "[ExtractAudio] Destination: moFnk44scfg.wav\n",
            "Deleting original file moFnk44scfg.m4a (pass -k to keep)\n"
          ]
        },
        {
          "metadata": {
            "tags": null
          },
          "name": "stderr",
          "output_type": "stream",
          "text": [
            "/usr/local/lib/python3.10/dist-packages/whisper/transcribe.py:132: UserWarning: FP16 is not supported on CPU; using FP32 instead\n",
            "  warnings.warn(\"FP16 is not supported on CPU; using FP32 instead\")\n"
          ]
        },
        {
          "metadata": {
            "tags": null
          },
          "name": "stdout",
          "output_type": "stream",
          "text": [
            "Transcript saved for video: Session 9: Estimating Hurdle Rates - Betas and Fundamentals\n",
            "[youtube] Extracting URL: https://www.youtube.com/watch?v=rcVCKoJFjhk\n",
            "[youtube] rcVCKoJFjhk: Downloading webpage\n",
            "[youtube] rcVCKoJFjhk: Downloading ios player API JSON\n",
            "[youtube] rcVCKoJFjhk: Downloading mweb player API JSON\n",
            "[youtube] rcVCKoJFjhk: Downloading m3u8 information\n",
            "[info] rcVCKoJFjhk: Downloading 1 format(s): 140\n",
            "[download] Destination: rcVCKoJFjhk.m4a\n",
            "[download] 100% of   15.78MiB in 00:00:00 at 19.94MiB/s  \n",
            "[FixupM4a] Correcting container of \"rcVCKoJFjhk.m4a\"\n",
            "[ExtractAudio] Destination: rcVCKoJFjhk.wav\n",
            "Deleting original file rcVCKoJFjhk.m4a (pass -k to keep)\n"
          ]
        },
        {
          "metadata": {
            "tags": null
          },
          "name": "stderr",
          "output_type": "stream",
          "text": [
            "/usr/local/lib/python3.10/dist-packages/whisper/transcribe.py:132: UserWarning: FP16 is not supported on CPU; using FP32 instead\n",
            "  warnings.warn(\"FP16 is not supported on CPU; using FP32 instead\")\n"
          ]
        },
        {
          "metadata": {
            "tags": null
          },
          "name": "stdout",
          "output_type": "stream",
          "text": [
            "Transcript saved for video: Session 10: Estimating Hurdle Rates - Bottom up Betas\n",
            "[youtube] Extracting URL: https://www.youtube.com/watch?v=I2bkISzheQA\n",
            "[youtube] I2bkISzheQA: Downloading webpage\n",
            "[youtube] I2bkISzheQA: Downloading ios player API JSON\n",
            "[youtube] I2bkISzheQA: Downloading mweb player API JSON\n",
            "[youtube] I2bkISzheQA: Downloading m3u8 information\n",
            "[info] I2bkISzheQA: Downloading 1 format(s): 140\n",
            "[download] Destination: I2bkISzheQA.m4a\n",
            "[download] 100% of   13.77MiB in 00:00:01 at 10.28MiB/s  \n",
            "[FixupM4a] Correcting container of \"I2bkISzheQA.m4a\"\n",
            "[ExtractAudio] Destination: I2bkISzheQA.wav\n",
            "Deleting original file I2bkISzheQA.m4a (pass -k to keep)\n"
          ]
        },
        {
          "metadata": {
            "tags": null
          },
          "name": "stderr",
          "output_type": "stream",
          "text": [
            "/usr/local/lib/python3.10/dist-packages/whisper/transcribe.py:132: UserWarning: FP16 is not supported on CPU; using FP32 instead\n",
            "  warnings.warn(\"FP16 is not supported on CPU; using FP32 instead\")\n"
          ]
        },
        {
          "metadata": {
            "tags": null
          },
          "name": "stdout",
          "output_type": "stream",
          "text": [
            "Transcript saved for video: Session 11: Estimating Hurdle Rates - More on bottom up betas\n",
            "[youtube] Extracting URL: https://www.youtube.com/watch?v=-OCBUKg_trY\n",
            "[youtube] -OCBUKg_trY: Downloading webpage\n",
            "[youtube] -OCBUKg_trY: Downloading ios player API JSON\n",
            "[youtube] -OCBUKg_trY: Downloading mweb player API JSON\n",
            "[youtube] -OCBUKg_trY: Downloading m3u8 information\n",
            "[info] -OCBUKg_trY: Downloading 1 format(s): 140\n",
            "[download] Destination: -OCBUKg_trY.m4a\n",
            "[download] 100% of   16.58MiB in 00:00:01 at 13.96MiB/s  \n",
            "[FixupM4a] Correcting container of \"-OCBUKg_trY.m4a\"\n",
            "[ExtractAudio] Destination: -OCBUKg_trY.wav\n",
            "Deleting original file -OCBUKg_trY.m4a (pass -k to keep)\n"
          ]
        },
        {
          "metadata": {
            "tags": null
          },
          "name": "stderr",
          "output_type": "stream",
          "text": [
            "/usr/local/lib/python3.10/dist-packages/whisper/transcribe.py:132: UserWarning: FP16 is not supported on CPU; using FP32 instead\n",
            "  warnings.warn(\"FP16 is not supported on CPU; using FP32 instead\")\n"
          ]
        },
        {
          "metadata": {
            "tags": null
          },
          "name": "stdout",
          "output_type": "stream",
          "text": [
            "Transcript saved for video: Session 12: Estimating Hurdle Rates - Debt & its Cost\n",
            "[youtube] Extracting URL: https://www.youtube.com/watch?v=G6-W2ICTgPo\n",
            "[youtube] G6-W2ICTgPo: Downloading webpage\n",
            "[youtube] G6-W2ICTgPo: Downloading ios player API JSON\n",
            "[youtube] G6-W2ICTgPo: Downloading mweb player API JSON\n",
            "[youtube] G6-W2ICTgPo: Downloading m3u8 information\n",
            "[info] G6-W2ICTgPo: Downloading 1 format(s): 140\n",
            "[download] Destination: G6-W2ICTgPo.m4a\n",
            "[download] 100% of   12.17MiB in 00:00:01 at 9.22MiB/s   \n",
            "[FixupM4a] Correcting container of \"G6-W2ICTgPo.m4a\"\n",
            "[ExtractAudio] Destination: G6-W2ICTgPo.wav\n",
            "Deleting original file G6-W2ICTgPo.m4a (pass -k to keep)\n"
          ]
        },
        {
          "metadata": {
            "tags": null
          },
          "name": "stderr",
          "output_type": "stream",
          "text": [
            "/usr/local/lib/python3.10/dist-packages/whisper/transcribe.py:132: UserWarning: FP16 is not supported on CPU; using FP32 instead\n",
            "  warnings.warn(\"FP16 is not supported on CPU; using FP32 instead\")\n"
          ]
        },
        {
          "metadata": {
            "tags": null
          },
          "name": "stdout",
          "output_type": "stream",
          "text": [
            "Transcript saved for video: Session 13: Estimating Hurdle Rates- Financing Weights & Cost of Capital\n",
            "[youtube] Extracting URL: https://www.youtube.com/watch?v=w0WE8jsG-Ig\n",
            "[youtube] w0WE8jsG-Ig: Downloading webpage\n",
            "[youtube] w0WE8jsG-Ig: Downloading ios player API JSON\n",
            "[youtube] w0WE8jsG-Ig: Downloading mweb player API JSON\n",
            "[youtube] w0WE8jsG-Ig: Downloading m3u8 information\n",
            "[info] w0WE8jsG-Ig: Downloading 1 format(s): 140\n",
            "[download] Destination: w0WE8jsG-Ig.m4a\n",
            "[download] 100% of   21.48MiB in 00:00:01 at 13.99MiB/s  \n",
            "[FixupM4a] Correcting container of \"w0WE8jsG-Ig.m4a\"\n",
            "[ExtractAudio] Destination: w0WE8jsG-Ig.wav\n",
            "Deleting original file w0WE8jsG-Ig.m4a (pass -k to keep)\n"
          ]
        },
        {
          "metadata": {
            "tags": null
          },
          "name": "stderr",
          "output_type": "stream",
          "text": [
            "/usr/local/lib/python3.10/dist-packages/whisper/transcribe.py:132: UserWarning: FP16 is not supported on CPU; using FP32 instead\n",
            "  warnings.warn(\"FP16 is not supported on CPU; using FP32 instead\")\n"
          ]
        },
        {
          "metadata": {
            "tags": null
          },
          "name": "stdout",
          "output_type": "stream",
          "text": [
            "Transcript saved for video: Session 14: Investment Returns I- Setting the Table\n",
            "[youtube] Extracting URL: https://www.youtube.com/watch?v=YrHfFS4u5WE\n",
            "[youtube] YrHfFS4u5WE: Downloading webpage\n",
            "[youtube] YrHfFS4u5WE: Downloading ios player API JSON\n",
            "[youtube] YrHfFS4u5WE: Downloading mweb player API JSON\n",
            "[youtube] YrHfFS4u5WE: Downloading m3u8 information\n",
            "[info] YrHfFS4u5WE: Downloading 1 format(s): 140\n",
            "[download] Destination: YrHfFS4u5WE.m4a\n",
            "[download] 100% of   15.80MiB in 00:00:01 at 10.83MiB/s  \n",
            "[FixupM4a] Correcting container of \"YrHfFS4u5WE.m4a\"\n",
            "[ExtractAudio] Destination: YrHfFS4u5WE.wav\n",
            "Deleting original file YrHfFS4u5WE.m4a (pass -k to keep)\n"
          ]
        },
        {
          "metadata": {
            "tags": null
          },
          "name": "stderr",
          "output_type": "stream",
          "text": [
            "/usr/local/lib/python3.10/dist-packages/whisper/transcribe.py:132: UserWarning: FP16 is not supported on CPU; using FP32 instead\n",
            "  warnings.warn(\"FP16 is not supported on CPU; using FP32 instead\")\n"
          ]
        },
        {
          "metadata": {
            "tags": null
          },
          "name": "stdout",
          "output_type": "stream",
          "text": [
            "Transcript saved for video: Session 15: Investment Returns II - Getting to Time Weighted Cash Flows\n",
            "[youtube] Extracting URL: https://www.youtube.com/watch?v=_3ZqmUNdzys\n",
            "[youtube] _3ZqmUNdzys: Downloading webpage\n",
            "[youtube] _3ZqmUNdzys: Downloading ios player API JSON\n",
            "[youtube] _3ZqmUNdzys: Downloading mweb player API JSON\n",
            "[youtube] _3ZqmUNdzys: Downloading m3u8 information\n",
            "[info] _3ZqmUNdzys: Downloading 1 format(s): 140\n",
            "[download] Destination: _3ZqmUNdzys.m4a\n",
            "[download] 100% of   16.83MiB in 00:00:00 at 18.74MiB/s  \n",
            "[FixupM4a] Correcting container of \"_3ZqmUNdzys.m4a\"\n",
            "[ExtractAudio] Destination: _3ZqmUNdzys.wav\n",
            "Deleting original file _3ZqmUNdzys.m4a (pass -k to keep)\n"
          ]
        },
        {
          "metadata": {
            "tags": null
          },
          "name": "stderr",
          "output_type": "stream",
          "text": [
            "/usr/local/lib/python3.10/dist-packages/whisper/transcribe.py:132: UserWarning: FP16 is not supported on CPU; using FP32 instead\n",
            "  warnings.warn(\"FP16 is not supported on CPU; using FP32 instead\")\n"
          ]
        },
        {
          "metadata": {
            "tags": null
          },
          "name": "stdout",
          "output_type": "stream",
          "text": [
            "Transcript saved for video: Session 16: Investment Returns III - Wrapping up Loose Ends\n",
            "[youtube] Extracting URL: https://www.youtube.com/watch?v=pQYRAt6Z7Gw\n",
            "[youtube] pQYRAt6Z7Gw: Downloading webpage\n",
            "[youtube] pQYRAt6Z7Gw: Downloading ios player API JSON\n",
            "[youtube] pQYRAt6Z7Gw: Downloading mweb player API JSON\n",
            "[youtube] pQYRAt6Z7Gw: Downloading m3u8 information\n",
            "[info] pQYRAt6Z7Gw: Downloading 1 format(s): 140\n",
            "[download] Destination: pQYRAt6Z7Gw.m4a\n",
            "[download] 100% of   17.45MiB in 00:00:01 at 9.65MiB/s   \n",
            "[FixupM4a] Correcting container of \"pQYRAt6Z7Gw.m4a\"\n",
            "[ExtractAudio] Destination: pQYRAt6Z7Gw.wav\n",
            "Deleting original file pQYRAt6Z7Gw.m4a (pass -k to keep)\n"
          ]
        },
        {
          "metadata": {
            "tags": null
          },
          "name": "stderr",
          "output_type": "stream",
          "text": [
            "/usr/local/lib/python3.10/dist-packages/whisper/transcribe.py:132: UserWarning: FP16 is not supported on CPU; using FP32 instead\n",
            "  warnings.warn(\"FP16 is not supported on CPU; using FP32 instead\")\n"
          ]
        },
        {
          "metadata": {
            "tags": null
          },
          "name": "stdout",
          "output_type": "stream",
          "text": [
            "Transcript saved for video: Session 17: Optimal Financing Mix I - The Trade Off\n",
            "[youtube] Extracting URL: https://www.youtube.com/watch?v=e1JVOluxr-M\n",
            "[youtube] e1JVOluxr-M: Downloading webpage\n",
            "[youtube] e1JVOluxr-M: Downloading ios player API JSON\n",
            "[youtube] e1JVOluxr-M: Downloading mweb player API JSON\n",
            "[youtube] e1JVOluxr-M: Downloading m3u8 information\n",
            "[info] e1JVOluxr-M: Downloading 1 format(s): 140\n",
            "[download] Destination: e1JVOluxr-M.m4a\n",
            "[download] 100% of   17.75MiB in 00:00:00 at 18.74MiB/s  \n",
            "[FixupM4a] Correcting container of \"e1JVOluxr-M.m4a\"\n",
            "[ExtractAudio] Destination: e1JVOluxr-M.wav\n",
            "Deleting original file e1JVOluxr-M.m4a (pass -k to keep)\n"
          ]
        },
        {
          "metadata": {
            "tags": null
          },
          "name": "stderr",
          "output_type": "stream",
          "text": [
            "/usr/local/lib/python3.10/dist-packages/whisper/transcribe.py:132: UserWarning: FP16 is not supported on CPU; using FP32 instead\n",
            "  warnings.warn(\"FP16 is not supported on CPU; using FP32 instead\")\n"
          ]
        },
        {
          "metadata": {
            "tags": null
          },
          "name": "stdout",
          "output_type": "stream",
          "text": [
            "Transcript saved for video: Session 18: Optimal Financing Mix II- The cost of capital approach\n",
            "[youtube] Extracting URL: https://www.youtube.com/watch?v=idSng0GyvvM\n",
            "[youtube] idSng0GyvvM: Downloading webpage\n",
            "[youtube] idSng0GyvvM: Downloading ios player API JSON\n",
            "[youtube] idSng0GyvvM: Downloading mweb player API JSON\n",
            "[youtube] idSng0GyvvM: Downloading m3u8 information\n",
            "[info] idSng0GyvvM: Downloading 1 format(s): 140\n",
            "[download] Destination: idSng0GyvvM.m4a\n",
            "[download] 100% of   16.39MiB in 00:00:00 at 19.80MiB/s  \n",
            "[FixupM4a] Correcting container of \"idSng0GyvvM.m4a\"\n",
            "[ExtractAudio] Destination: idSng0GyvvM.wav\n",
            "Deleting original file idSng0GyvvM.m4a (pass -k to keep)\n"
          ]
        },
        {
          "metadata": {
            "tags": null
          },
          "name": "stderr",
          "output_type": "stream",
          "text": [
            "/usr/local/lib/python3.10/dist-packages/whisper/transcribe.py:132: UserWarning: FP16 is not supported on CPU; using FP32 instead\n",
            "  warnings.warn(\"FP16 is not supported on CPU; using FP32 instead\")\n"
          ]
        },
        {
          "metadata": {
            "tags": null
          },
          "name": "stdout",
          "output_type": "stream",
          "text": [
            "Transcript saved for video: Session 19: Optimal Financing Mix III - Following up the Cost of Capital Approach\n",
            "[youtube] Extracting URL: https://www.youtube.com/watch?v=3Pn-Hh_GR94\n",
            "[youtube] 3Pn-Hh_GR94: Downloading webpage\n",
            "[youtube] 3Pn-Hh_GR94: Downloading ios player API JSON\n",
            "[youtube] 3Pn-Hh_GR94: Downloading mweb player API JSON\n",
            "[youtube] 3Pn-Hh_GR94: Downloading m3u8 information\n",
            "[info] 3Pn-Hh_GR94: Downloading 1 format(s): 140\n",
            "[download] Destination: 3Pn-Hh_GR94.m4a\n",
            "[download] 100% of   16.56MiB in 00:00:01 at 13.37MiB/s  \n",
            "[FixupM4a] Correcting container of \"3Pn-Hh_GR94.m4a\"\n",
            "[ExtractAudio] Destination: 3Pn-Hh_GR94.wav\n",
            "Deleting original file 3Pn-Hh_GR94.m4a (pass -k to keep)\n"
          ]
        },
        {
          "metadata": {
            "tags": null
          },
          "name": "stderr",
          "output_type": "stream",
          "text": [
            "/usr/local/lib/python3.10/dist-packages/whisper/transcribe.py:132: UserWarning: FP16 is not supported on CPU; using FP32 instead\n",
            "  warnings.warn(\"FP16 is not supported on CPU; using FP32 instead\")\n"
          ]
        },
        {
          "metadata": {
            "tags": null
          },
          "name": "stdout",
          "output_type": "stream",
          "text": [
            "Transcript saved for video: Session 20: Optimal Financing Mix IV - Wrapping up the Cost of Capital Approach\n",
            "[youtube] Extracting URL: https://www.youtube.com/watch?v=kcWtcZHUX6g\n",
            "[youtube] kcWtcZHUX6g: Downloading webpage\n",
            "[youtube] kcWtcZHUX6g: Downloading ios player API JSON\n",
            "[youtube] kcWtcZHUX6g: Downloading mweb player API JSON\n",
            "[youtube] kcWtcZHUX6g: Downloading m3u8 information\n",
            "[info] kcWtcZHUX6g: Downloading 1 format(s): 140\n",
            "[download] Destination: kcWtcZHUX6g.m4a\n",
            "[download] 100% of   16.15MiB in 00:00:01 at 10.80MiB/s  \n",
            "[FixupM4a] Correcting container of \"kcWtcZHUX6g.m4a\"\n",
            "[ExtractAudio] Destination: kcWtcZHUX6g.wav\n",
            "Deleting original file kcWtcZHUX6g.m4a (pass -k to keep)\n"
          ]
        },
        {
          "metadata": {
            "tags": null
          },
          "name": "stderr",
          "output_type": "stream",
          "text": [
            "/usr/local/lib/python3.10/dist-packages/whisper/transcribe.py:132: UserWarning: FP16 is not supported on CPU; using FP32 instead\n",
            "  warnings.warn(\"FP16 is not supported on CPU; using FP32 instead\")\n"
          ]
        },
        {
          "metadata": {
            "tags": null
          },
          "name": "stdout",
          "output_type": "stream",
          "text": [
            "Transcript saved for video: Session 21: Optimal Financing Mix V - Alternate Approaches\n",
            "[youtube] Extracting URL: https://www.youtube.com/watch?v=nbLwsUUboy0\n",
            "[youtube] nbLwsUUboy0: Downloading webpage\n",
            "[youtube] nbLwsUUboy0: Downloading ios player API JSON\n",
            "[youtube] nbLwsUUboy0: Downloading mweb player API JSON\n",
            "[youtube] nbLwsUUboy0: Downloading m3u8 information\n",
            "[info] nbLwsUUboy0: Downloading 1 format(s): 140\n",
            "[download] Destination: nbLwsUUboy0.m4a\n",
            "[download] 100% of   14.09MiB in 00:00:00 at 14.32MiB/s  \n",
            "[FixupM4a] Correcting container of \"nbLwsUUboy0.m4a\"\n",
            "[ExtractAudio] Destination: nbLwsUUboy0.wav\n",
            "Deleting original file nbLwsUUboy0.m4a (pass -k to keep)\n"
          ]
        },
        {
          "metadata": {
            "tags": null
          },
          "name": "stderr",
          "output_type": "stream",
          "text": [
            "/usr/local/lib/python3.10/dist-packages/whisper/transcribe.py:132: UserWarning: FP16 is not supported on CPU; using FP32 instead\n",
            "  warnings.warn(\"FP16 is not supported on CPU; using FP32 instead\")\n"
          ]
        },
        {
          "metadata": {
            "tags": null
          },
          "name": "stdout",
          "output_type": "stream",
          "text": [
            "Transcript saved for video: Session 22: Moving to the Optimal Financing Mix\n",
            "[youtube] Extracting URL: https://www.youtube.com/watch?v=03Sx48LW7qQ\n",
            "[youtube] 03Sx48LW7qQ: Downloading webpage\n",
            "[youtube] 03Sx48LW7qQ: Downloading ios player API JSON\n",
            "[youtube] 03Sx48LW7qQ: Downloading mweb player API JSON\n",
            "[youtube] 03Sx48LW7qQ: Downloading m3u8 information\n",
            "[info] 03Sx48LW7qQ: Downloading 1 format(s): 140\n",
            "[download] Destination: 03Sx48LW7qQ.m4a\n",
            "[download] 100% of   22.68MiB in 00:00:02 at 11.08MiB/s  \n",
            "[FixupM4a] Correcting container of \"03Sx48LW7qQ.m4a\"\n",
            "[ExtractAudio] Destination: 03Sx48LW7qQ.wav\n",
            "Deleting original file 03Sx48LW7qQ.m4a (pass -k to keep)\n"
          ]
        },
        {
          "metadata": {
            "tags": null
          },
          "name": "stderr",
          "output_type": "stream",
          "text": [
            "/usr/local/lib/python3.10/dist-packages/whisper/transcribe.py:132: UserWarning: FP16 is not supported on CPU; using FP32 instead\n",
            "  warnings.warn(\"FP16 is not supported on CPU; using FP32 instead\")\n"
          ]
        },
        {
          "metadata": {
            "tags": null
          },
          "name": "stdout",
          "output_type": "stream",
          "text": [
            "Transcript saved for video: Session 23: The Right Type of Financing\n",
            "[youtube] Extracting URL: https://www.youtube.com/watch?v=C2XMM-E48BA\n",
            "[youtube] C2XMM-E48BA: Downloading webpage\n",
            "[youtube] C2XMM-E48BA: Downloading ios player API JSON\n",
            "[youtube] C2XMM-E48BA: Downloading mweb player API JSON\n",
            "[youtube] C2XMM-E48BA: Downloading m3u8 information\n",
            "[info] C2XMM-E48BA: Downloading 1 format(s): 140\n",
            "[download] Destination: C2XMM-E48BA.m4a\n",
            "[download] 100% of   14.57MiB in 00:00:02 at 6.03MiB/s   \n",
            "[FixupM4a] Correcting container of \"C2XMM-E48BA.m4a\"\n",
            "[ExtractAudio] Destination: C2XMM-E48BA.wav\n",
            "Deleting original file C2XMM-E48BA.m4a (pass -k to keep)\n"
          ]
        },
        {
          "metadata": {
            "tags": null
          },
          "name": "stderr",
          "output_type": "stream",
          "text": [
            "/usr/local/lib/python3.10/dist-packages/whisper/transcribe.py:132: UserWarning: FP16 is not supported on CPU; using FP32 instead\n",
            "  warnings.warn(\"FP16 is not supported on CPU; using FP32 instead\")\n"
          ]
        },
        {
          "metadata": {
            "tags": null
          },
          "name": "stdout",
          "output_type": "stream",
          "text": [
            "Transcript saved for video: Session 24: Dividend Policy - Trends & Measures\n",
            "[youtube] Extracting URL: https://www.youtube.com/watch?v=F_6mcUPfoTk\n",
            "[youtube] F_6mcUPfoTk: Downloading webpage\n",
            "[youtube] F_6mcUPfoTk: Downloading ios player API JSON\n",
            "[youtube] F_6mcUPfoTk: Downloading mweb player API JSON\n",
            "[youtube] F_6mcUPfoTk: Downloading m3u8 information\n",
            "[info] F_6mcUPfoTk: Downloading 1 format(s): 140\n",
            "[download] Destination: F_6mcUPfoTk.m4a\n",
            "[download] 100% of   19.11MiB in 00:00:01 at 17.38MiB/s  \n",
            "[FixupM4a] Correcting container of \"F_6mcUPfoTk.m4a\"\n",
            "[ExtractAudio] Destination: F_6mcUPfoTk.wav\n",
            "Deleting original file F_6mcUPfoTk.m4a (pass -k to keep)\n"
          ]
        },
        {
          "metadata": {
            "tags": null
          },
          "name": "stderr",
          "output_type": "stream",
          "text": [
            "/usr/local/lib/python3.10/dist-packages/whisper/transcribe.py:132: UserWarning: FP16 is not supported on CPU; using FP32 instead\n",
            "  warnings.warn(\"FP16 is not supported on CPU; using FP32 instead\")\n"
          ]
        },
        {
          "output_type": "stream",
          "name": "stdout",
          "text": [
            "Transcript saved for video: Session 25: Divided Policy - The Trade Off\n",
            "[youtube] Extracting URL: https://www.youtube.com/watch?v=DI4JeKjFlEI\n",
            "[youtube] DI4JeKjFlEI: Downloading webpage\n",
            "[youtube] DI4JeKjFlEI: Downloading ios player API JSON\n",
            "[youtube] DI4JeKjFlEI: Downloading mweb player API JSON\n",
            "[youtube] DI4JeKjFlEI: Downloading m3u8 information\n",
            "[info] DI4JeKjFlEI: Downloading 1 format(s): 140\n",
            "[download] Destination: DI4JeKjFlEI.m4a\n",
            "[download] 100% of   16.34MiB in 00:00:01 at 15.63MiB/s  \n",
            "[FixupM4a] Correcting container of \"DI4JeKjFlEI.m4a\"\n",
            "[ExtractAudio] Destination: DI4JeKjFlEI.wav\n",
            "Deleting original file DI4JeKjFlEI.m4a (pass -k to keep)\n"
          ]
        },
        {
          "output_type": "stream",
          "name": "stderr",
          "text": [
            "/usr/local/lib/python3.10/dist-packages/whisper/transcribe.py:132: UserWarning: FP16 is not supported on CPU; using FP32 instead\n",
            "  warnings.warn(\"FP16 is not supported on CPU; using FP32 instead\")\n"
          ]
        },
        {
          "output_type": "stream",
          "name": "stdout",
          "text": [
            "Transcript saved for video: Session 26: Dividend Policy - Assessment\n",
            "[youtube] Extracting URL: https://www.youtube.com/watch?v=VpGrRE6t9U0\n",
            "[youtube] VpGrRE6t9U0: Downloading webpage\n",
            "[youtube] VpGrRE6t9U0: Downloading ios player API JSON\n",
            "[youtube] VpGrRE6t9U0: Downloading mweb player API JSON\n",
            "[youtube] VpGrRE6t9U0: Downloading m3u8 information\n",
            "[info] VpGrRE6t9U0: Downloading 1 format(s): 140\n",
            "[download] Destination: VpGrRE6t9U0.m4a\n",
            "[download] 100% of   16.28MiB in 00:00:01 at 15.59MiB/s  \n",
            "[FixupM4a] Correcting container of \"VpGrRE6t9U0.m4a\"\n",
            "[ExtractAudio] Destination: VpGrRE6t9U0.wav\n",
            "Deleting original file VpGrRE6t9U0.m4a (pass -k to keep)\n"
          ]
        },
        {
          "output_type": "stream",
          "name": "stderr",
          "text": [
            "/usr/local/lib/python3.10/dist-packages/whisper/transcribe.py:132: UserWarning: FP16 is not supported on CPU; using FP32 instead\n",
            "  warnings.warn(\"FP16 is not supported on CPU; using FP32 instead\")\n"
          ]
        },
        {
          "output_type": "stream",
          "name": "stdout",
          "text": [
            "Transcript saved for video: Session 27: Dividend Policy - Action & Follow Up\n",
            "[youtube] Extracting URL: https://www.youtube.com/watch?v=rTHDKTIt200\n",
            "[youtube] rTHDKTIt200: Downloading webpage\n",
            "[youtube] rTHDKTIt200: Downloading ios player API JSON\n",
            "[youtube] rTHDKTIt200: Downloading mweb player API JSON\n",
            "[youtube] rTHDKTIt200: Downloading m3u8 information\n",
            "[info] rTHDKTIt200: Downloading 1 format(s): 140\n",
            "[download] Destination: rTHDKTIt200.m4a\n",
            "[download] 100% of   10.37MiB in 00:00:01 at 5.78MiB/s   \n",
            "[FixupM4a] Correcting container of \"rTHDKTIt200.m4a\"\n",
            "[ExtractAudio] Destination: rTHDKTIt200.wav\n",
            "Deleting original file rTHDKTIt200.m4a (pass -k to keep)\n"
          ]
        },
        {
          "output_type": "stream",
          "name": "stderr",
          "text": [
            "/usr/local/lib/python3.10/dist-packages/whisper/transcribe.py:132: UserWarning: FP16 is not supported on CPU; using FP32 instead\n",
            "  warnings.warn(\"FP16 is not supported on CPU; using FP32 instead\")\n"
          ]
        },
        {
          "output_type": "stream",
          "name": "stdout",
          "text": [
            "Transcript saved for video: Session 28: Dividend Policy - The End Game\n",
            "[youtube] Extracting URL: https://www.youtube.com/watch?v=u76ddYwoNUk\n",
            "[youtube] u76ddYwoNUk: Downloading webpage\n",
            "[youtube] u76ddYwoNUk: Downloading ios player API JSON\n",
            "[youtube] u76ddYwoNUk: Downloading mweb player API JSON\n",
            "[youtube] u76ddYwoNUk: Downloading m3u8 information\n",
            "[info] u76ddYwoNUk: Downloading 1 format(s): 140\n",
            "[download] Destination: u76ddYwoNUk.m4a\n",
            "[download] 100% of   13.23MiB in 00:00:01 at 9.37MiB/s   \n",
            "[FixupM4a] Correcting container of \"u76ddYwoNUk.m4a\"\n",
            "[ExtractAudio] Destination: u76ddYwoNUk.wav\n",
            "Deleting original file u76ddYwoNUk.m4a (pass -k to keep)\n"
          ]
        },
        {
          "output_type": "stream",
          "name": "stderr",
          "text": [
            "/usr/local/lib/python3.10/dist-packages/whisper/transcribe.py:132: UserWarning: FP16 is not supported on CPU; using FP32 instead\n",
            "  warnings.warn(\"FP16 is not supported on CPU; using FP32 instead\")\n"
          ]
        },
        {
          "output_type": "stream",
          "name": "stdout",
          "text": [
            "Transcript saved for video: Session 29: Valuation - First Steps\n",
            "[youtube] Extracting URL: https://www.youtube.com/watch?v=BFFhDAYFZM4\n",
            "[youtube] BFFhDAYFZM4: Downloading webpage\n",
            "[youtube] BFFhDAYFZM4: Downloading ios player API JSON\n",
            "[youtube] BFFhDAYFZM4: Downloading mweb player API JSON\n",
            "[youtube] BFFhDAYFZM4: Downloading m3u8 information\n",
            "[info] BFFhDAYFZM4: Downloading 1 format(s): 140\n",
            "[download] Destination: BFFhDAYFZM4.m4a\n",
            "[download] 100% of   15.38MiB in 00:00:00 at 17.35MiB/s  \n",
            "[FixupM4a] Correcting container of \"BFFhDAYFZM4.m4a\"\n",
            "[ExtractAudio] Destination: BFFhDAYFZM4.wav\n",
            "Deleting original file BFFhDAYFZM4.m4a (pass -k to keep)\n"
          ]
        },
        {
          "output_type": "stream",
          "name": "stderr",
          "text": [
            "/usr/local/lib/python3.10/dist-packages/whisper/transcribe.py:132: UserWarning: FP16 is not supported on CPU; using FP32 instead\n",
            "  warnings.warn(\"FP16 is not supported on CPU; using FP32 instead\")\n"
          ]
        },
        {
          "output_type": "stream",
          "name": "stdout",
          "text": [
            "Transcript saved for video: Session 30: Valuation - Cash Flows & Discount Rates\n",
            "[youtube] Extracting URL: https://www.youtube.com/watch?v=56ErOtE8Mts\n",
            "[youtube] 56ErOtE8Mts: Downloading webpage\n",
            "[youtube] 56ErOtE8Mts: Downloading ios player API JSON\n",
            "[youtube] 56ErOtE8Mts: Downloading mweb player API JSON\n",
            "[youtube] 56ErOtE8Mts: Downloading m3u8 information\n",
            "[info] 56ErOtE8Mts: Downloading 1 format(s): 140\n",
            "[download] Destination: 56ErOtE8Mts.m4a\n",
            "[download] 100% of   13.82MiB in 00:00:01 at 12.32MiB/s  \n",
            "[FixupM4a] Correcting container of \"56ErOtE8Mts.m4a\"\n",
            "[ExtractAudio] Destination: 56ErOtE8Mts.wav\n",
            "Deleting original file 56ErOtE8Mts.m4a (pass -k to keep)\n"
          ]
        },
        {
          "output_type": "stream",
          "name": "stderr",
          "text": [
            "/usr/local/lib/python3.10/dist-packages/whisper/transcribe.py:132: UserWarning: FP16 is not supported on CPU; using FP32 instead\n",
            "  warnings.warn(\"FP16 is not supported on CPU; using FP32 instead\")\n"
          ]
        },
        {
          "output_type": "stream",
          "name": "stdout",
          "text": [
            "Transcript saved for video: Session 31: Cash Flows & Growth Rates\n",
            "[youtube] Extracting URL: https://www.youtube.com/watch?v=pN5dOi5OmCI\n",
            "[youtube] pN5dOi5OmCI: Downloading webpage\n",
            "[youtube] pN5dOi5OmCI: Downloading ios player API JSON\n",
            "[youtube] pN5dOi5OmCI: Downloading mweb player API JSON\n",
            "[youtube] pN5dOi5OmCI: Downloading m3u8 information\n",
            "[info] pN5dOi5OmCI: Downloading 1 format(s): 140\n",
            "[download] Destination: pN5dOi5OmCI.m4a\n",
            "[download] 100% of   20.44MiB in 00:00:01 at 14.80MiB/s  \n",
            "[FixupM4a] Correcting container of \"pN5dOi5OmCI.m4a\"\n",
            "[ExtractAudio] Destination: pN5dOi5OmCI.wav\n",
            "Deleting original file pN5dOi5OmCI.m4a (pass -k to keep)\n"
          ]
        },
        {
          "output_type": "stream",
          "name": "stderr",
          "text": [
            "/usr/local/lib/python3.10/dist-packages/whisper/transcribe.py:132: UserWarning: FP16 is not supported on CPU; using FP32 instead\n",
            "  warnings.warn(\"FP16 is not supported on CPU; using FP32 instead\")\n"
          ]
        },
        {
          "output_type": "stream",
          "name": "stdout",
          "text": [
            "Transcript saved for video: Session 32: Terminal Value\n",
            "[youtube] Extracting URL: https://www.youtube.com/watch?v=QUr3qHHiDus\n",
            "[youtube] QUr3qHHiDus: Downloading webpage\n",
            "[youtube] QUr3qHHiDus: Downloading ios player API JSON\n",
            "[youtube] QUr3qHHiDus: Downloading mweb player API JSON\n",
            "[youtube] QUr3qHHiDus: Downloading m3u8 information\n",
            "[info] QUr3qHHiDus: Downloading 1 format(s): 140\n",
            "[download] Destination: QUr3qHHiDus.m4a\n",
            "[download] 100% of   15.75MiB in 00:00:01 at 14.09MiB/s  \n",
            "[FixupM4a] Correcting container of \"QUr3qHHiDus.m4a\"\n",
            "[ExtractAudio] Destination: QUr3qHHiDus.wav\n",
            "Deleting original file QUr3qHHiDus.m4a (pass -k to keep)\n"
          ]
        },
        {
          "output_type": "stream",
          "name": "stderr",
          "text": [
            "/usr/local/lib/python3.10/dist-packages/whisper/transcribe.py:132: UserWarning: FP16 is not supported on CPU; using FP32 instead\n",
            "  warnings.warn(\"FP16 is not supported on CPU; using FP32 instead\")\n"
          ]
        },
        {
          "output_type": "stream",
          "name": "stdout",
          "text": [
            "Transcript saved for video: Session 33: Valuation Loose Ends\n",
            "[youtube] Extracting URL: https://www.youtube.com/watch?v=PKWOBNqgvPg\n",
            "[youtube] PKWOBNqgvPg: Downloading webpage\n",
            "[youtube] PKWOBNqgvPg: Downloading ios player API JSON\n",
            "[youtube] PKWOBNqgvPg: Downloading mweb player API JSON\n",
            "[youtube] PKWOBNqgvPg: Downloading m3u8 information\n",
            "[info] PKWOBNqgvPg: Downloading 1 format(s): 140\n",
            "[download] Destination: PKWOBNqgvPg.m4a\n",
            "[download] 100% of   11.91MiB in 00:00:00 at 16.79MiB/s  \n",
            "[FixupM4a] Correcting container of \"PKWOBNqgvPg.m4a\"\n",
            "[ExtractAudio] Destination: PKWOBNqgvPg.wav\n",
            "Deleting original file PKWOBNqgvPg.m4a (pass -k to keep)\n"
          ]
        },
        {
          "output_type": "stream",
          "name": "stderr",
          "text": [
            "/usr/local/lib/python3.10/dist-packages/whisper/transcribe.py:132: UserWarning: FP16 is not supported on CPU; using FP32 instead\n",
            "  warnings.warn(\"FP16 is not supported on CPU; using FP32 instead\")\n"
          ]
        },
        {
          "output_type": "stream",
          "name": "stdout",
          "text": [
            "Transcript saved for video: Session 34: The Value of Control\n",
            "[youtube] Extracting URL: https://www.youtube.com/watch?v=8N69eLBLTvA\n",
            "[youtube] 8N69eLBLTvA: Downloading webpage\n",
            "[youtube] 8N69eLBLTvA: Downloading ios player API JSON\n",
            "[youtube] 8N69eLBLTvA: Downloading mweb player API JSON\n",
            "[youtube] 8N69eLBLTvA: Downloading m3u8 information\n",
            "[info] 8N69eLBLTvA: Downloading 1 format(s): 140\n",
            "[download] Destination: 8N69eLBLTvA.m4a\n",
            "[download] 100% of   18.50MiB in 00:00:00 at 21.57MiB/s  \n",
            "[FixupM4a] Correcting container of \"8N69eLBLTvA.m4a\"\n",
            "[ExtractAudio] Destination: 8N69eLBLTvA.wav\n",
            "Deleting original file 8N69eLBLTvA.m4a (pass -k to keep)\n"
          ]
        },
        {
          "output_type": "stream",
          "name": "stderr",
          "text": [
            "/usr/local/lib/python3.10/dist-packages/whisper/transcribe.py:132: UserWarning: FP16 is not supported on CPU; using FP32 instead\n",
            "  warnings.warn(\"FP16 is not supported on CPU; using FP32 instead\")\n"
          ]
        },
        {
          "output_type": "stream",
          "name": "stdout",
          "text": [
            "Transcript saved for video: Session 35: Relative Valuation\n",
            "[youtube] Extracting URL: https://www.youtube.com/watch?v=7mCsz0Eqg6c\n",
            "[youtube] 7mCsz0Eqg6c: Downloading webpage\n",
            "[youtube] 7mCsz0Eqg6c: Downloading ios player API JSON\n",
            "[youtube] 7mCsz0Eqg6c: Downloading mweb player API JSON\n",
            "[youtube] 7mCsz0Eqg6c: Downloading m3u8 information\n",
            "[info] 7mCsz0Eqg6c: Downloading 1 format(s): 140\n",
            "[download] Destination: 7mCsz0Eqg6c.m4a\n",
            "[download] 100% of   10.82MiB in 00:00:00 at 13.75MiB/s  \n",
            "[FixupM4a] Correcting container of \"7mCsz0Eqg6c.m4a\"\n",
            "[ExtractAudio] Destination: 7mCsz0Eqg6c.wav\n",
            "Deleting original file 7mCsz0Eqg6c.m4a (pass -k to keep)\n"
          ]
        },
        {
          "output_type": "stream",
          "name": "stderr",
          "text": [
            "/usr/local/lib/python3.10/dist-packages/whisper/transcribe.py:132: UserWarning: FP16 is not supported on CPU; using FP32 instead\n",
            "  warnings.warn(\"FP16 is not supported on CPU; using FP32 instead\")\n"
          ]
        },
        {
          "output_type": "stream",
          "name": "stdout",
          "text": [
            "Transcript saved for video: Session 36: Closing Thoughts\n"
          ]
        }
      ],
      "source": [
        "import whisper\n",
        "import yt_dlp\n",
        "import os\n",
        "from google.colab import drive\n",
        "\n",
        "# Mount Google Drive\n",
        "drive.mount('/content/drive')\n",
        "\n",
        "# Define the save directory in Google Drive\n",
        "save_dir = '/content/drive/MyDrive/Aswath Corporate Finance Transcripts-Whisper'\n",
        "\n",
        "# Create the directory if it doesn't exist\n",
        "os.makedirs(save_dir, exist_ok=True)\n",
        "\n",
        "# Load Whisper model\n",
        "model = whisper.load_model(\"base\")\n",
        "\n",
        "def sanitize_filename(filename):\n",
        "    return \"\".join([c for c in filename if c.isalpha() or c.isdigit() or c in ' -_.']).rstrip()\n",
        "\n",
        "def download_audio(video_url):\n",
        "    ydl_opts = {\n",
        "        'format': 'bestaudio/best',\n",
        "        'postprocessors': [{\n",
        "            'key': 'FFmpegExtractAudio',\n",
        "            'preferredcodec': 'wav',\n",
        "            'preferredquality': '192',\n",
        "        }],\n",
        "        'outtmpl': '%(id)s.%(ext)s',\n",
        "    }\n",
        "    with yt_dlp.YoutubeDL(ydl_opts) as ydl:\n",
        "        info = ydl.extract_info(video_url, download=True)\n",
        "        filename = ydl.prepare_filename(info)\n",
        "        return filename.replace('.webm', '.wav').replace('.m4a', '.wav')\n",
        "\n",
        "def process_video(video_url):\n",
        "    try:\n",
        "        # Download audio\n",
        "        audio_file = download_audio(video_url)\n",
        "\n",
        "        # Get video title\n",
        "        with yt_dlp.YoutubeDL({'quiet': True}) as ydl:\n",
        "            info = ydl.extract_info(video_url, download=False)\n",
        "            title = info['title']\n",
        "\n",
        "        # Transcribe audio\n",
        "        result = model.transcribe(audio_file)\n",
        "        transcript = result[\"text\"]\n",
        "\n",
        "        # Save transcript\n",
        "        safe_title = sanitize_filename(title)\n",
        "        filename = f\"{safe_title}.txt\"\n",
        "        file_path = os.path.join(save_dir, filename)\n",
        "\n",
        "        with open(file_path, \"w\", encoding=\"utf-8\") as f:\n",
        "            f.write(transcript)\n",
        "\n",
        "        print(f\"Transcript saved for video: {title}\")\n",
        "\n",
        "        # Clean up the audio file\n",
        "        os.remove(audio_file)\n",
        "    except Exception as e:\n",
        "        print(f\"Error processing video {video_url}: {str(e)}\")\n",
        "\n",
        "def process_playlist(playlist_url):\n",
        "    ydl_opts = {\n",
        "        'quiet': True,\n",
        "        'extract_flat': True,\n",
        "        'force_generic_extractor': True,\n",
        "    }\n",
        "\n",
        "    with yt_dlp.YoutubeDL(ydl_opts) as ydl:\n",
        "        result = ydl.extract_info(playlist_url, download=False)\n",
        "\n",
        "        if 'entries' not in result:\n",
        "            print(f'Error: Unable to fetch playlist {playlist_url}')\n",
        "            return\n",
        "\n",
        "        for entry in result['entries']:\n",
        "            video_url = entry['url']\n",
        "            process_video(video_url)\n",
        "\n",
        "# Example usage\n",
        "playlist_url = \"https://www.youtube.com/playlist?list=PLUkh9m2BorqnDenjSLZ2DHIXrdxoN4Bn_\"\n",
        "process_playlist(playlist_url)"
      ]
    },
    {
      "cell_type": "code",
      "source": [],
      "metadata": {
        "id": "aKYfP0iXJV1y"
      },
      "execution_count": null,
      "outputs": []
    }
  ]
}